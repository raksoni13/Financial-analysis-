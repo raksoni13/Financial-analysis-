{
 "cells": [
  {
   "cell_type": "code",
   "execution_count": 2,
   "metadata": {},
   "outputs": [],
   "source": [
    "import pandas as pd\n",
    "import numpy as np\n",
    "import matplotlib.pyplot as plt\n",
    "import seaborn as sns\n",
    "%matplotlib inline"
   ]
  },
  {
   "cell_type": "code",
   "execution_count": 3,
   "metadata": {},
   "outputs": [],
   "source": [
    "xls = pd.ExcelFile('Technical 1.xlsx')\n",
    "df1 = pd.read_excel(xls, 'INVOICE DETAILS')\n",
    "df2 = pd.read_excel(xls, 'PAYMENT DETAILS')"
   ]
  },
  {
   "cell_type": "code",
   "execution_count": 4,
   "metadata": {},
   "outputs": [
    {
     "data": {
      "text/html": [
       "<div>\n",
       "<style scoped>\n",
       "    .dataframe tbody tr th:only-of-type {\n",
       "        vertical-align: middle;\n",
       "    }\n",
       "\n",
       "    .dataframe tbody tr th {\n",
       "        vertical-align: top;\n",
       "    }\n",
       "\n",
       "    .dataframe thead th {\n",
       "        text-align: right;\n",
       "    }\n",
       "</style>\n",
       "<table border=\"1\" class=\"dataframe\">\n",
       "  <thead>\n",
       "    <tr style=\"text-align: right;\">\n",
       "      <th></th>\n",
       "      <th></th>\n",
       "      <th>INV.AMT</th>\n",
       "    </tr>\n",
       "    <tr>\n",
       "      <th>Company</th>\n",
       "      <th>INV.NUMBER</th>\n",
       "      <th></th>\n",
       "    </tr>\n",
       "  </thead>\n",
       "  <tbody>\n",
       "    <tr>\n",
       "      <th rowspan=\"10\" valign=\"top\">Company A</th>\n",
       "      <th>1070172</th>\n",
       "      <td>465.15</td>\n",
       "    </tr>\n",
       "    <tr>\n",
       "      <th>1071948</th>\n",
       "      <td>1715.80</td>\n",
       "    </tr>\n",
       "    <tr>\n",
       "      <th>1074640</th>\n",
       "      <td>3045.54</td>\n",
       "    </tr>\n",
       "    <tr>\n",
       "      <th>1075568</th>\n",
       "      <td>444.34</td>\n",
       "    </tr>\n",
       "    <tr>\n",
       "      <th>1076452</th>\n",
       "      <td>100.84</td>\n",
       "    </tr>\n",
       "    <tr>\n",
       "      <th>1079268</th>\n",
       "      <td>3887.60</td>\n",
       "    </tr>\n",
       "    <tr>\n",
       "      <th>1081130</th>\n",
       "      <td>1026.00</td>\n",
       "    </tr>\n",
       "    <tr>\n",
       "      <th>1082049</th>\n",
       "      <td>88.00</td>\n",
       "    </tr>\n",
       "    <tr>\n",
       "      <th>1082050</th>\n",
       "      <td>354.00</td>\n",
       "    </tr>\n",
       "    <tr>\n",
       "      <th>1082936</th>\n",
       "      <td>1070.20</td>\n",
       "    </tr>\n",
       "  </tbody>\n",
       "</table>\n",
       "</div>"
      ],
      "text/plain": [
       "                      INV.AMT\n",
       "Company   INV.NUMBER         \n",
       "Company A 1070172      465.15\n",
       "          1071948     1715.80\n",
       "          1074640     3045.54\n",
       "          1075568      444.34\n",
       "          1076452      100.84\n",
       "          1079268     3887.60\n",
       "          1081130     1026.00\n",
       "          1082049       88.00\n",
       "          1082050      354.00\n",
       "          1082936     1070.20"
      ]
     },
     "execution_count": 4,
     "metadata": {},
     "output_type": "execute_result"
    }
   ],
   "source": [
    "df3=df1.groupby(['Company','INV.NUMBER']).sum()\n",
    "df3.head(10)"
   ]
  },
  {
   "cell_type": "code",
   "execution_count": 5,
   "metadata": {},
   "outputs": [
    {
     "data": {
      "text/html": [
       "<div>\n",
       "<style scoped>\n",
       "    .dataframe tbody tr th:only-of-type {\n",
       "        vertical-align: middle;\n",
       "    }\n",
       "\n",
       "    .dataframe tbody tr th {\n",
       "        vertical-align: top;\n",
       "    }\n",
       "\n",
       "    .dataframe thead th {\n",
       "        text-align: right;\n",
       "    }\n",
       "</style>\n",
       "<table border=\"1\" class=\"dataframe\">\n",
       "  <thead>\n",
       "    <tr style=\"text-align: right;\">\n",
       "      <th></th>\n",
       "      <th></th>\n",
       "      <th>AMT.PD</th>\n",
       "    </tr>\n",
       "    <tr>\n",
       "      <th>Company</th>\n",
       "      <th>INV.NUMBER</th>\n",
       "      <th></th>\n",
       "    </tr>\n",
       "  </thead>\n",
       "  <tbody>\n",
       "    <tr>\n",
       "      <th rowspan=\"10\" valign=\"top\">Company A</th>\n",
       "      <th>1068733</th>\n",
       "      <td>-2800.90</td>\n",
       "    </tr>\n",
       "    <tr>\n",
       "      <th>1070172</th>\n",
       "      <td>-465.15</td>\n",
       "    </tr>\n",
       "    <tr>\n",
       "      <th>1071948</th>\n",
       "      <td>-1715.80</td>\n",
       "    </tr>\n",
       "    <tr>\n",
       "      <th>1074640</th>\n",
       "      <td>-3045.54</td>\n",
       "    </tr>\n",
       "    <tr>\n",
       "      <th>1075568</th>\n",
       "      <td>-444.34</td>\n",
       "    </tr>\n",
       "    <tr>\n",
       "      <th>1076452</th>\n",
       "      <td>-100.84</td>\n",
       "    </tr>\n",
       "    <tr>\n",
       "      <th>1079268</th>\n",
       "      <td>-3887.60</td>\n",
       "    </tr>\n",
       "    <tr>\n",
       "      <th>1081130</th>\n",
       "      <td>-1026.00</td>\n",
       "    </tr>\n",
       "    <tr>\n",
       "      <th>1082049</th>\n",
       "      <td>-88.00</td>\n",
       "    </tr>\n",
       "    <tr>\n",
       "      <th>1082050</th>\n",
       "      <td>-354.00</td>\n",
       "    </tr>\n",
       "  </tbody>\n",
       "</table>\n",
       "</div>"
      ],
      "text/plain": [
       "                       AMT.PD\n",
       "Company   INV.NUMBER         \n",
       "Company A 1068733    -2800.90\n",
       "          1070172     -465.15\n",
       "          1071948    -1715.80\n",
       "          1074640    -3045.54\n",
       "          1075568     -444.34\n",
       "          1076452     -100.84\n",
       "          1079268    -3887.60\n",
       "          1081130    -1026.00\n",
       "          1082049      -88.00\n",
       "          1082050     -354.00"
      ]
     },
     "execution_count": 5,
     "metadata": {},
     "output_type": "execute_result"
    }
   ],
   "source": [
    "df4=df2.groupby(['Company','INV.NUMBER']).sum()\n",
    "df4.head(10)"
   ]
  },
  {
   "cell_type": "code",
   "execution_count": 6,
   "metadata": {},
   "outputs": [],
   "source": [
    "df5=pd.merge(df3, df4, how='outer', on=['Company','INV.NUMBER'])"
   ]
  },
  {
   "cell_type": "code",
   "execution_count": 7,
   "metadata": {},
   "outputs": [
    {
     "data": {
      "text/html": [
       "<div>\n",
       "<style scoped>\n",
       "    .dataframe tbody tr th:only-of-type {\n",
       "        vertical-align: middle;\n",
       "    }\n",
       "\n",
       "    .dataframe tbody tr th {\n",
       "        vertical-align: top;\n",
       "    }\n",
       "\n",
       "    .dataframe thead th {\n",
       "        text-align: right;\n",
       "    }\n",
       "</style>\n",
       "<table border=\"1\" class=\"dataframe\">\n",
       "  <thead>\n",
       "    <tr style=\"text-align: right;\">\n",
       "      <th></th>\n",
       "      <th></th>\n",
       "      <th>INV.AMT</th>\n",
       "      <th>AMT.PD</th>\n",
       "    </tr>\n",
       "    <tr>\n",
       "      <th>Company</th>\n",
       "      <th>INV.NUMBER</th>\n",
       "      <th></th>\n",
       "      <th></th>\n",
       "    </tr>\n",
       "  </thead>\n",
       "  <tbody>\n",
       "    <tr>\n",
       "      <th rowspan=\"5\" valign=\"top\">Company A</th>\n",
       "      <th>1070172</th>\n",
       "      <td>465.15</td>\n",
       "      <td>-465.15</td>\n",
       "    </tr>\n",
       "    <tr>\n",
       "      <th>1071948</th>\n",
       "      <td>1715.80</td>\n",
       "      <td>-1715.80</td>\n",
       "    </tr>\n",
       "    <tr>\n",
       "      <th>1074640</th>\n",
       "      <td>3045.54</td>\n",
       "      <td>-3045.54</td>\n",
       "    </tr>\n",
       "    <tr>\n",
       "      <th>1075568</th>\n",
       "      <td>444.34</td>\n",
       "      <td>-444.34</td>\n",
       "    </tr>\n",
       "    <tr>\n",
       "      <th>1076452</th>\n",
       "      <td>100.84</td>\n",
       "      <td>-100.84</td>\n",
       "    </tr>\n",
       "  </tbody>\n",
       "</table>\n",
       "</div>"
      ],
      "text/plain": [
       "                      INV.AMT   AMT.PD\n",
       "Company   INV.NUMBER                  \n",
       "Company A 1070172      465.15  -465.15\n",
       "          1071948     1715.80 -1715.80\n",
       "          1074640     3045.54 -3045.54\n",
       "          1075568      444.34  -444.34\n",
       "          1076452      100.84  -100.84"
      ]
     },
     "execution_count": 7,
     "metadata": {},
     "output_type": "execute_result"
    }
   ],
   "source": [
    "df5.head()"
   ]
  },
  {
   "cell_type": "code",
   "execution_count": 62,
   "metadata": {},
   "outputs": [
    {
     "name": "stdout",
     "output_type": "stream",
     "text": [
      "     Company_x Type Of Transaction_x  INV.NUMBER INV.DATE_x Part  INV.AMT  \\\n",
      "1204       NaN                   NaN     1068733        NaT  NaN      NaN   \n",
      "1205       NaN                   NaN     1198514        NaT  NaN      NaN   \n",
      "\n",
      "     In df2?  Company_y Type Of Transaction_y INV.DATE_y   DUE.DATE  \\\n",
      "1204     NaN  Company A               Payment 2019-06-13 2019-03-01   \n",
      "1205     NaN  Company A               Payment 2019-07-26 2019-09-24   \n",
      "\n",
      "     PAYMENT.DATE  AMT.PD Ontime or late  \n",
      "1204   2019-06-27 -2800.9           Late  \n",
      "1205   2019-08-23 -7443.4         Ontime  \n"
     ]
    }
   ],
   "source": [
    "df1['In df2?']=df1['INV.NUMBER'].isin(df2['INV.NUMBER'])\n",
    "df=pd.merge(df1, df2, how='outer', on=['INV.NUMBER','INV.NUMBER'])\n",
    "print(df[df['In df2?'].isnull()])\n",
    "#We can see the AMT.PD exists but INV.AMT does not exist. This is sensless and hence we will subtracted from the \n",
    "#sum of AMT.PD later on from total payments"
   ]
  },
  {
   "cell_type": "code",
   "execution_count": 61,
   "metadata": {},
   "outputs": [
    {
     "name": "stdout",
     "output_type": "stream",
     "text": [
      "10244.3\n"
     ]
    }
   ],
   "source": [
    "print(2800.9+7443.4) # Will be subtracted later on"
   ]
  },
  {
   "cell_type": "code",
   "execution_count": 8,
   "metadata": {},
   "outputs": [
    {
     "data": {
      "text/html": [
       "<div>\n",
       "<style scoped>\n",
       "    .dataframe tbody tr th:only-of-type {\n",
       "        vertical-align: middle;\n",
       "    }\n",
       "\n",
       "    .dataframe tbody tr th {\n",
       "        vertical-align: top;\n",
       "    }\n",
       "\n",
       "    .dataframe thead th {\n",
       "        text-align: right;\n",
       "    }\n",
       "</style>\n",
       "<table border=\"1\" class=\"dataframe\">\n",
       "  <thead>\n",
       "    <tr style=\"text-align: right;\">\n",
       "      <th></th>\n",
       "      <th>Company</th>\n",
       "      <th>INV.NUMBER</th>\n",
       "      <th>INV.AMT</th>\n",
       "      <th>AMT.PD</th>\n",
       "      <th>NullOrNot</th>\n",
       "    </tr>\n",
       "  </thead>\n",
       "  <tbody>\n",
       "    <tr>\n",
       "      <th>0</th>\n",
       "      <td>Company A</td>\n",
       "      <td>1070172</td>\n",
       "      <td>465.15</td>\n",
       "      <td>-465.15</td>\n",
       "      <td>False</td>\n",
       "    </tr>\n",
       "    <tr>\n",
       "      <th>1</th>\n",
       "      <td>Company A</td>\n",
       "      <td>1071948</td>\n",
       "      <td>1715.80</td>\n",
       "      <td>-1715.80</td>\n",
       "      <td>False</td>\n",
       "    </tr>\n",
       "    <tr>\n",
       "      <th>2</th>\n",
       "      <td>Company A</td>\n",
       "      <td>1074640</td>\n",
       "      <td>3045.54</td>\n",
       "      <td>-3045.54</td>\n",
       "      <td>False</td>\n",
       "    </tr>\n",
       "    <tr>\n",
       "      <th>3</th>\n",
       "      <td>Company A</td>\n",
       "      <td>1075568</td>\n",
       "      <td>444.34</td>\n",
       "      <td>-444.34</td>\n",
       "      <td>False</td>\n",
       "    </tr>\n",
       "    <tr>\n",
       "      <th>4</th>\n",
       "      <td>Company A</td>\n",
       "      <td>1076452</td>\n",
       "      <td>100.84</td>\n",
       "      <td>-100.84</td>\n",
       "      <td>False</td>\n",
       "    </tr>\n",
       "  </tbody>\n",
       "</table>\n",
       "</div>"
      ],
      "text/plain": [
       "     Company  INV.NUMBER  INV.AMT   AMT.PD  NullOrNot\n",
       "0  Company A     1070172   465.15  -465.15      False\n",
       "1  Company A     1071948  1715.80 -1715.80      False\n",
       "2  Company A     1074640  3045.54 -3045.54      False\n",
       "3  Company A     1075568   444.34  -444.34      False\n",
       "4  Company A     1076452   100.84  -100.84      False"
      ]
     },
     "execution_count": 8,
     "metadata": {},
     "output_type": "execute_result"
    }
   ],
   "source": [
    "df5['NullOrNot']=df5['AMT.PD'].isna()\n",
    "df5.reset_index(inplace=True)\n",
    "df5.head()"
   ]
  },
  {
   "cell_type": "code",
   "execution_count": 9,
   "metadata": {},
   "outputs": [
    {
     "data": {
      "text/plain": [
       "35"
      ]
     },
     "execution_count": 9,
     "metadata": {},
     "output_type": "execute_result"
    }
   ],
   "source": [
    "l=[]\n",
    "for i in range(len(df5)):\n",
    "    if df5['NullOrNot'].iloc[i]==True:\n",
    "        l.append(df5['INV.NUMBER'].iloc[i])\n",
    "len(l)"
   ]
  },
  {
   "cell_type": "code",
   "execution_count": 10,
   "metadata": {},
   "outputs": [],
   "source": [
    "uA=0 #Unpaid amount by company A\n",
    "uB=0\n",
    "uC=0\n",
    "p=[]\n",
    "for i in range(len(df5)):\n",
    "    if df5['NullOrNot'].iloc[i]==True and df5['Company'].iloc[i]==\"Company A\":\n",
    "        uA=df5['INV.AMT'].iloc[i]+uA\n",
    "    elif df5['NullOrNot'].iloc[i]==True and df5['Company'].iloc[i]==\"Company B\":\n",
    "        uB=df5['INV.AMT'].iloc[i]+uB\n",
    "    elif df5['NullOrNot'].iloc[i]==True and df5['Company'].iloc[i]==\"Company C\":\n",
    "        uC=df5['INV.AMT'].iloc[i]+uC"
   ]
  },
  {
   "cell_type": "code",
   "execution_count": 11,
   "metadata": {},
   "outputs": [
    {
     "name": "stdout",
     "output_type": "stream",
     "text": [
      "23876.66\n",
      "9124.36\n",
      "12221.9\n",
      "45222.920000000006\n"
     ]
    }
   ],
   "source": [
    "print(uA) #unpaid amt by A\n",
    "print(uB) #unpaid amt by B\n",
    "print(uC) #unpaid amt by C\n",
    "print(uA+uB+uC) #Total unpaid amount"
   ]
  },
  {
   "cell_type": "code",
   "execution_count": 12,
   "metadata": {},
   "outputs": [],
   "source": [
    "overpaidA=0\n",
    "underpaidA=0\n",
    "underpaidB=0\n",
    "underpaidC=0\n",
    "for i in range(len(df5)):\n",
    "    if df5['NullOrNot'].iloc[i]==False:\n",
    "        if df5['INV.AMT'].iloc[i]+df5['AMT.PD'].loc[i]<0 and df5['Company'].iloc[i]=='Company A':\n",
    "            overpaidA=overpaidA-(df5['INV.AMT'].iloc[i]+df5['AMT.PD'].loc[i])\n",
    "            #p.append(df5['INV.NUMBER'].iloc[i])\n",
    "            #print(df5['INV.NUMBER'].iloc[i])\n",
    "        elif df5['INV.AMT'].iloc[i]+df5['AMT.PD'].loc[i]>0 and df5['Company'].iloc[i]=='Company A':\n",
    "            underpaidA=(df5['INV.AMT'].iloc[i]+df5['AMT.PD'].loc[i])+underpaidA\n",
    "        elif df5['INV.AMT'].iloc[i]+df5['AMT.PD'].loc[i]>0 and df5['Company'].iloc[i]=='Company B':\n",
    "            underpaidB=(df5['INV.AMT'].iloc[i]+df5['AMT.PD'].loc[i])+underpaidB\n",
    "        elif df5['INV.AMT'].iloc[i]+df5['AMT.PD'].loc[i]>0 and df5['Company'].iloc[i]=='Company C':\n",
    "            underpaidC=(df5['INV.AMT'].iloc[i]+df5['AMT.PD'].loc[i])+underpaidC"
   ]
  },
  {
   "cell_type": "code",
   "execution_count": 18,
   "metadata": {},
   "outputs": [
    {
     "name": "stdout",
     "output_type": "stream",
     "text": [
      "156.8900000000087\n",
      "212.0000000000001\n",
      "6942.810000000001\n",
      "7311.70000000001\n"
     ]
    }
   ],
   "source": [
    "print(underpaidA) # Underpaid amount paid by A\n",
    "print(underpaidB) # Underpaid amount paid by B\n",
    "print(underpaidC) # Underpaid amount paid by C\n",
    "print(underpaidA+underpaidB+underpaidC) #Total Underpaid amount"
   ]
  },
  {
   "cell_type": "code",
   "execution_count": 14,
   "metadata": {},
   "outputs": [],
   "source": [
    "df2['Ontime or late'] = np.where(df2['PAYMENT.DATE'] <= df2['DUE.DATE'], 'Ontime', 'Late')"
   ]
  },
  {
   "cell_type": "code",
   "execution_count": 15,
   "metadata": {},
   "outputs": [
    {
     "data": {
      "text/html": [
       "<div>\n",
       "<style scoped>\n",
       "    .dataframe tbody tr th:only-of-type {\n",
       "        vertical-align: middle;\n",
       "    }\n",
       "\n",
       "    .dataframe tbody tr th {\n",
       "        vertical-align: top;\n",
       "    }\n",
       "\n",
       "    .dataframe thead th {\n",
       "        text-align: right;\n",
       "    }\n",
       "</style>\n",
       "<table border=\"1\" class=\"dataframe\">\n",
       "  <thead>\n",
       "    <tr style=\"text-align: right;\">\n",
       "      <th></th>\n",
       "      <th>Company</th>\n",
       "      <th>Type Of Transaction</th>\n",
       "      <th>INV.NUMBER</th>\n",
       "      <th>INV.DATE</th>\n",
       "      <th>DUE.DATE</th>\n",
       "      <th>PAYMENT.DATE</th>\n",
       "      <th>AMT.PD</th>\n",
       "      <th>Ontime or late</th>\n",
       "    </tr>\n",
       "  </thead>\n",
       "  <tbody>\n",
       "    <tr>\n",
       "      <th>0</th>\n",
       "      <td>Company A</td>\n",
       "      <td>Payment</td>\n",
       "      <td>1070172</td>\n",
       "      <td>2019-01-03</td>\n",
       "      <td>2019-03-04</td>\n",
       "      <td>2019-04-02</td>\n",
       "      <td>-465.15</td>\n",
       "      <td>Late</td>\n",
       "    </tr>\n",
       "    <tr>\n",
       "      <th>1</th>\n",
       "      <td>Company B</td>\n",
       "      <td>Payment</td>\n",
       "      <td>1070173</td>\n",
       "      <td>2019-01-03</td>\n",
       "      <td>2019-03-04</td>\n",
       "      <td>2019-03-14</td>\n",
       "      <td>-63.00</td>\n",
       "      <td>Late</td>\n",
       "    </tr>\n",
       "    <tr>\n",
       "      <th>2</th>\n",
       "      <td>Company A</td>\n",
       "      <td>Payment</td>\n",
       "      <td>1071948</td>\n",
       "      <td>2019-01-07</td>\n",
       "      <td>2019-03-08</td>\n",
       "      <td>2019-03-21</td>\n",
       "      <td>-1715.80</td>\n",
       "      <td>Late</td>\n",
       "    </tr>\n",
       "    <tr>\n",
       "      <th>3</th>\n",
       "      <td>Company A</td>\n",
       "      <td>Payment</td>\n",
       "      <td>1074640</td>\n",
       "      <td>2019-01-10</td>\n",
       "      <td>2019-03-11</td>\n",
       "      <td>2019-03-21</td>\n",
       "      <td>-3045.54</td>\n",
       "      <td>Late</td>\n",
       "    </tr>\n",
       "    <tr>\n",
       "      <th>4</th>\n",
       "      <td>Company A</td>\n",
       "      <td>Payment</td>\n",
       "      <td>1075568</td>\n",
       "      <td>2019-01-11</td>\n",
       "      <td>2019-03-12</td>\n",
       "      <td>2019-03-21</td>\n",
       "      <td>-444.34</td>\n",
       "      <td>Late</td>\n",
       "    </tr>\n",
       "  </tbody>\n",
       "</table>\n",
       "</div>"
      ],
      "text/plain": [
       "     Company Type Of Transaction  INV.NUMBER   INV.DATE   DUE.DATE  \\\n",
       "0  Company A             Payment     1070172 2019-01-03 2019-03-04   \n",
       "1  Company B             Payment     1070173 2019-01-03 2019-03-04   \n",
       "2  Company A             Payment     1071948 2019-01-07 2019-03-08   \n",
       "3  Company A             Payment     1074640 2019-01-10 2019-03-11   \n",
       "4  Company A             Payment     1075568 2019-01-11 2019-03-12   \n",
       "\n",
       "  PAYMENT.DATE   AMT.PD Ontime or late  \n",
       "0   2019-04-02  -465.15           Late  \n",
       "1   2019-03-14   -63.00           Late  \n",
       "2   2019-03-21 -1715.80           Late  \n",
       "3   2019-03-21 -3045.54           Late  \n",
       "4   2019-03-21  -444.34           Late  "
      ]
     },
     "execution_count": 15,
     "metadata": {},
     "output_type": "execute_result"
    }
   ],
   "source": [
    "df2.head()"
   ]
  },
  {
   "cell_type": "code",
   "execution_count": 16,
   "metadata": {},
   "outputs": [],
   "source": [
    "LA=0\n",
    "EA=0\n",
    "LB=0\n",
    "EB=0\n",
    "LC=0\n",
    "EC=0\n",
    "for i in range (len(df2)):\n",
    "    if df2['Ontime or late'].iloc[i] =='Late' and df2['Company'].iloc[i]=='Company A':\n",
    "        LA=LA -df2['AMT.PD'].iloc[i]\n",
    "    elif df2['Ontime or late'].iloc[i]=='Ontime'and df2['Company'].iloc[i]=='Company A':\n",
    "        EA=EA-df2['AMT.PD'].iloc[i]\n",
    "        \n",
    "    elif df2['Ontime or late'].iloc[i] =='Late' and df2['Company'].iloc[i]=='Company B':\n",
    "        LB=LB -df2['AMT.PD'].iloc[i]\n",
    "    elif df2['Ontime or late'].iloc[i]=='Ontime'and df2['Company'].iloc[i]=='Company B':\n",
    "        EB=EB-df2['AMT.PD'].iloc[i]\n",
    "        \n",
    "    elif df2['Ontime or late'].iloc[i] =='Late' and df2['Company'].iloc[i]=='Company C':\n",
    "        LC=LC -df2['AMT.PD'].iloc[i]\n",
    "    elif df2['Ontime or late'].iloc[i]=='Ontime'and df2['Company'].iloc[i]=='Company C':\n",
    "        EC=EC-df2['AMT.PD'].iloc[i]"
   ]
  },
  {
   "cell_type": "code",
   "execution_count": 19,
   "metadata": {},
   "outputs": [
    {
     "name": "stdout",
     "output_type": "stream",
     "text": [
      "254529.24000000008\n",
      "7443.4\n",
      "148989.44\n",
      "156.86\n",
      "197276.39000000004\n",
      "43578.380000000005\n",
      "261972.64000000007\n",
      "149146.3\n",
      "240854.77000000005\n",
      "651973.7100000001\n"
     ]
    }
   ],
   "source": [
    "print(LA) #Late payment by A\n",
    "print(EA) #Ontime payment by A\n",
    "print(LB)\n",
    "print(EB)\n",
    "print(LC)\n",
    "print(EC)\n",
    "print(LA+EA)\n",
    "print(LB+EB)\n",
    "print(LC+EC)\n",
    "print(LA+LB+LC+EA+EB+EC) #Total (late or ontime) amount paid"
   ]
  },
  {
   "cell_type": "code",
   "execution_count": 35,
   "metadata": {},
   "outputs": [],
   "source": [
    "Company=['A', 'B', 'C']\n",
    "data = {\n",
    "        'Ontime':[EA,EB,EC],\n",
    "        'Late':[LA,LB,LC],\n",
    "        'Unpaid':[uA,uB,uC]\n",
    "       }"
   ]
  },
  {
   "cell_type": "code",
   "execution_count": 38,
   "metadata": {},
   "outputs": [],
   "source": [
    "dta= pd.DataFrame(data=data,index=Company)\n",
    "dta['Ontime+Late+Unpaid']= dta['Ontime']+dta['Late']+dta['Unpaid']"
   ]
  },
  {
   "cell_type": "code",
   "execution_count": 39,
   "metadata": {},
   "outputs": [
    {
     "data": {
      "text/html": [
       "<div>\n",
       "<style scoped>\n",
       "    .dataframe tbody tr th:only-of-type {\n",
       "        vertical-align: middle;\n",
       "    }\n",
       "\n",
       "    .dataframe tbody tr th {\n",
       "        vertical-align: top;\n",
       "    }\n",
       "\n",
       "    .dataframe thead th {\n",
       "        text-align: right;\n",
       "    }\n",
       "</style>\n",
       "<table border=\"1\" class=\"dataframe\">\n",
       "  <thead>\n",
       "    <tr style=\"text-align: right;\">\n",
       "      <th></th>\n",
       "      <th>Ontime</th>\n",
       "      <th>Late</th>\n",
       "      <th>Unpaid</th>\n",
       "      <th>Ontime+Late+Unpaid</th>\n",
       "    </tr>\n",
       "  </thead>\n",
       "  <tbody>\n",
       "    <tr>\n",
       "      <th>A</th>\n",
       "      <td>7443.40</td>\n",
       "      <td>254529.24</td>\n",
       "      <td>23876.66</td>\n",
       "      <td>285849.30</td>\n",
       "    </tr>\n",
       "    <tr>\n",
       "      <th>B</th>\n",
       "      <td>156.86</td>\n",
       "      <td>148989.44</td>\n",
       "      <td>9124.36</td>\n",
       "      <td>158270.66</td>\n",
       "    </tr>\n",
       "    <tr>\n",
       "      <th>C</th>\n",
       "      <td>43578.38</td>\n",
       "      <td>197276.39</td>\n",
       "      <td>12221.90</td>\n",
       "      <td>253076.67</td>\n",
       "    </tr>\n",
       "  </tbody>\n",
       "</table>\n",
       "</div>"
      ],
      "text/plain": [
       "     Ontime       Late    Unpaid  Ontime+Late+Unpaid\n",
       "A   7443.40  254529.24  23876.66           285849.30\n",
       "B    156.86  148989.44   9124.36           158270.66\n",
       "C  43578.38  197276.39  12221.90           253076.67"
      ]
     },
     "execution_count": 39,
     "metadata": {},
     "output_type": "execute_result"
    }
   ],
   "source": [
    "dta # Condensed result "
   ]
  },
  {
   "cell_type": "code",
   "execution_count": 43,
   "metadata": {},
   "outputs": [
    {
     "data": {
      "text/plain": [
       "686952.3300000001"
      ]
     },
     "execution_count": 43,
     "metadata": {},
     "output_type": "execute_result"
    }
   ],
   "source": [
    "dta['Ontime+Late+Unpaid'].sum()-10244.3 # As mentioned above we will subtract this amount "
   ]
  },
  {
   "cell_type": "code",
   "execution_count": 41,
   "metadata": {},
   "outputs": [
    {
     "data": {
      "text/plain": [
       "694264.03"
      ]
     },
     "execution_count": 41,
     "metadata": {},
     "output_type": "execute_result"
    }
   ],
   "source": [
    "df1['INV.AMT'].sum()"
   ]
  },
  {
   "cell_type": "code",
   "execution_count": 47,
   "metadata": {},
   "outputs": [
    {
     "name": "stdout",
     "output_type": "stream",
     "text": [
      "7311.699999999953\n",
      "7311.70000000001\n"
     ]
    }
   ],
   "source": [
    "print(694264.03-686952.3300000001) #This difference is created because of underpayment(when inv amt != payment amt) of \n",
    "#(ontime or late) payments\n",
    "print(underpaidA+underpaidB+underpaidC) #Total Underpaid amount || Calculated above"
   ]
  }
 ],
 "metadata": {
  "kernelspec": {
   "display_name": "Python 3",
   "language": "python",
   "name": "python3"
  },
  "language_info": {
   "codemirror_mode": {
    "name": "ipython",
    "version": 3
   },
   "file_extension": ".py",
   "mimetype": "text/x-python",
   "name": "python",
   "nbconvert_exporter": "python",
   "pygments_lexer": "ipython3",
   "version": "3.7.3"
  }
 },
 "nbformat": 4,
 "nbformat_minor": 2
}
